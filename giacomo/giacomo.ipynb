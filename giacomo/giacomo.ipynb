{
 "cells": [
  {
   "cell_type": "code",
   "execution_count": 129,
   "id": "4a85e253",
   "metadata": {},
   "outputs": [],
   "source": [
    "import json\n",
    "import numpy as np\n",
    "from datetime import datetime"
   ]
  },
  {
   "cell_type": "code",
   "execution_count": 130,
   "id": "0546d5ed",
   "metadata": {},
   "outputs": [],
   "source": [
    "def filter_dates_before(input_dict, specified_date):\n",
    "    \"\"\"\n",
    "    Filters the input dictionary to include only entries with dates before the specified date.\n",
    "\n",
    "    Parameters:\n",
    "    input_dict (dict): A dictionary with dates as keys in 'yyyy-mm-dd' format.\n",
    "    specified_date (str): A date in 'yyyy-mm-dd' format to filter the dictionary.\n",
    "\n",
    "    Returns:\n",
    "    dict: A new dictionary containing only the entries with dates before the specified date.\n",
    "    \"\"\"\n",
    "    if specified_date is None:\n",
    "        return input_dict\n",
    "    # Convert the specified date string to a datetime object\n",
    "    specified_date_obj = datetime.strptime(specified_date, '%Y-%m-%d')\n",
    "    \n",
    "    # Create a new dictionary to hold the filtered results\n",
    "    filtered_dict = {}\n",
    "    \n",
    "    # Iterate through the input dictionary\n",
    "    for date_str, data in input_dict.items():\n",
    "        # Convert the date string to a datetime object\n",
    "        date_obj = datetime.strptime(date_str, '%Y-%m-%d')\n",
    "        \n",
    "        # Check if the date is before the specified date\n",
    "        if date_obj < specified_date_obj:\n",
    "            filtered_dict[date_str] = data\n",
    "            \n",
    "    return filtered_dict"
   ]
  },
  {
   "cell_type": "code",
   "execution_count": 131,
   "id": "08ad432d",
   "metadata": {},
   "outputs": [],
   "source": [
    "\n",
    "\n",
    "def read_input_file(input_file_name:str, date_limit=None):\n",
    "    '''Given a file, it returns the data related to it,\n",
    "    ignoring data before `date_limit`\n",
    "    '''\n",
    "    with open(input_file_name, 'r') as file:\n",
    "        data = json.load(file)\n",
    "    \n",
    "    ######################\n",
    "    # DATA PREPROCESSING #\n",
    "    ######################\n",
    "\n",
    "    # Filter by date\n",
    "    for a in data['assets']:\n",
    "        data['assets'][a]['history'] = filter_dates_before(data['assets'][a]['history'], date_limit)\n",
    "\n",
    "    # Filter out all assets with a number of history items different than the trend (i.e. 751)\n",
    "    # We recognize that this approach works well only in cases where the number of outliers is reduced\n",
    "    # as in this case (9 out of ~900 assets).\n",
    "\n",
    "    filtered_data = {key:data[key] for key in ['evaluation_date']}\n",
    "    filtered_data['assets'] = {}\n",
    "    for a in data['assets']:\n",
    "        if len(data['assets'][a]['history']) == 751:\n",
    "            filtered_data['assets'][a] = data['assets'][a]\n",
    "\n",
    "    return filtered_data \n"
   ]
  },
  {
   "cell_type": "code",
   "execution_count": 132,
   "id": "c70e2030",
   "metadata": {},
   "outputs": [],
   "source": [
    "data = read_input_file(\"../eth_hackathon/input_one_day.json\")"
   ]
  },
  {
   "cell_type": "code",
   "execution_count": 133,
   "id": "c5b2a129",
   "metadata": {},
   "outputs": [
    {
     "name": "stdout",
     "output_type": "stream",
     "text": [
      "[[ 1.         -0.01979352 -0.14791098 ... -0.17340911 -0.04348772\n",
      "   0.00799467]\n",
      " [-0.01979352  1.          0.87165607 ...  0.54388361  0.75285394\n",
      "   0.9037155 ]\n",
      " [-0.14791098  0.87165607  1.         ...  0.62456203  0.72692153\n",
      "   0.79919744]\n",
      " ...\n",
      " [-0.17340911  0.54388361  0.62456203 ...  1.          0.49634856\n",
      "   0.5453978 ]\n",
      " [-0.04348772  0.75285394  0.72692153 ...  0.49634856  1.\n",
      "   0.82822657]\n",
      " [ 0.00799467  0.9037155   0.79919744 ...  0.5453978   0.82822657\n",
      "   1.        ]]\n"
     ]
    }
   ],
   "source": [
    "def covariance_matrix(data):\n",
    "    '''Returns the covariance matrix of the assets in `data`\n",
    "    using history up to date `date_limit`'''\n",
    "\n",
    "    assets = list(data['assets'].keys())\n",
    "    # number of history elements (assumed to be equal for all assets)\n",
    "    num_history_dates = len(data['assets'][assets[0]]['history'])\n",
    "    # print(num_history_dates)\n",
    "    # number of assets we are taking into account\n",
    "    N_considered_assets = len(data['assets'])\n",
    "\n",
    "    # Each row of assets_matrix represents a variable, and each column a single observation of all those variables.\n",
    "    assets_matrix = np.empty((N_considered_assets, num_history_dates))\n",
    "\n",
    "    for i, asset in enumerate(assets):\n",
    "        history = data['assets'][asset]['history']\n",
    "        ##TODO add filtering by date\n",
    "        assets_matrix[i, :] = list(history.values())\n",
    "\n",
    "    return np.corrcoef(assets_matrix)\n",
    "\n",
    "print(covariance_matrix(data))"
   ]
  },
  {
   "cell_type": "code",
   "execution_count": 134,
   "id": "06c5b3f5",
   "metadata": {},
   "outputs": [],
   "source": [
    "for a in data['assets']:\n",
    "    if not a:\n",
    "        print('ciao')"
   ]
  }
 ],
 "metadata": {
  "kernelspec": {
   "display_name": ".venv",
   "language": "python",
   "name": "python3"
  },
  "language_info": {
   "codemirror_mode": {
    "name": "ipython",
    "version": 3
   },
   "file_extension": ".py",
   "mimetype": "text/x-python",
   "name": "python",
   "nbconvert_exporter": "python",
   "pygments_lexer": "ipython3",
   "version": "3.10.12"
  }
 },
 "nbformat": 4,
 "nbformat_minor": 5
}

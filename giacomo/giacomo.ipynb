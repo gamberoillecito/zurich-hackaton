{
 "cells": [
  {
   "cell_type": "code",
   "execution_count": 63,
   "id": "4a85e253",
   "metadata": {},
   "outputs": [],
   "source": [
    "import json\n",
    "import numpy as np\n",
    "import datetime"
   ]
  },
  {
   "cell_type": "code",
   "execution_count": null,
   "id": "08ad432d",
   "metadata": {},
   "outputs": [],
   "source": [
    "\n",
    "\n",
    "def read_input_file(input_file_name:str):\n",
    "    '''Given a file, it returns the numpy\n",
    "    '''\n",
    "    with open(input_file_name, 'r') as file:\n",
    "        data = json.load(file)\n",
    "    return data\n",
    "\n",
    "def calculate_covariance_matrix(input_data):\n",
    "    '''Given a '''\n",
    "    pass"
   ]
  },
  {
   "cell_type": "code",
   "execution_count": 7,
   "id": "c70e2030",
   "metadata": {},
   "outputs": [],
   "source": [
    "data = read_input_file(\"../eth_hackathon/input_one_day.json\")"
   ]
  },
  {
   "cell_type": "code",
   "execution_count": null,
   "id": "c5b2a129",
   "metadata": {},
   "outputs": [
    {
     "name": "stdout",
     "output_type": "stream",
     "text": [
      "[[ 1.         -0.01979352 -0.14791098  0.32146658]\n",
      " [-0.01979352  1.          0.87165607 -0.7775364 ]\n",
      " [-0.14791098  0.87165607  1.         -0.81925307]\n",
      " [ 0.32146658 -0.7775364  -0.81925307  1.        ]]\n"
     ]
    }
   ],
   "source": [
    "assets = list(data['assets'].keys())\n",
    "# number of history elements (assumed to be equal for all assets)\n",
    "num_history_dates = len(data['assets'][assets[0]]['history'])\n",
    "\n",
    "# number of assets we are taking into account\n",
    "N_considered_assets = 4 \n",
    "\n",
    "# Each row of assets_matrix represents a variable, and each column a single observation of all those variables.\n",
    "assets_matrix = np.empty((N_considered_assets, num_history_dates))\n",
    "\n",
    "for i, asset in enumerate(assets[:N_considered_assets]):\n",
    "    history = list(data['assets'][asset]['history'].values())\n",
    "    ##TODO add filtering by date\n",
    "    assets_matrix[i, :] = history\n",
    "\n",
    "print(np.corrcoef(assets_matrix))"
   ]
  }
 ],
 "metadata": {
  "kernelspec": {
   "display_name": ".venv",
   "language": "python",
   "name": "python3"
  },
  "language_info": {
   "codemirror_mode": {
    "name": "ipython",
    "version": 3
   },
   "file_extension": ".py",
   "mimetype": "text/x-python",
   "name": "python",
   "nbconvert_exporter": "python",
   "pygments_lexer": "ipython3",
   "version": "3.10.12"
  }
 },
 "nbformat": 4,
 "nbformat_minor": 5
}
